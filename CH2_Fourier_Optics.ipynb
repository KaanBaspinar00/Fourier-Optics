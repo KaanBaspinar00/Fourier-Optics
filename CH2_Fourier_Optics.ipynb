{
  "nbformat": 4,
  "nbformat_minor": 0,
  "metadata": {
    "colab": {
      "provenance": []
    },
    "kernelspec": {
      "name": "python3",
      "display_name": "Python 3"
    },
    "language_info": {
      "name": "python"
    }
  },
  "cells": [
    {
      "cell_type": "markdown",
      "source": [
        "# CHAPTER 2 - Sampled Functions and the Discrete Fourier Transform"
      ],
      "metadata": {
        "id": "dZ-SjJDgH-5G"
      }
    },
    {
      "cell_type": "markdown",
      "source": [
        "## CH 2.1\n",
        "\n",
        "Sampling and the Shannon–Nyquist Sampling Theorem"
      ],
      "metadata": {
        "id": "8dqshcLIIFC6"
      }
    },
    {
      "cell_type": "markdown",
      "source": [
        "2D analytical function:\n",
        "\n",
        "$$\n",
        "g(x, y) → g(mΔx ,nΔy)\n",
        "$$\n",
        "\n",
        "where the sample interval is $Δx$ in x direction and  $Δy$ in y direction, and m\n",
        "and n are integer-valued indices of the samples.\n",
        "\n",
        "The respective sample rates are $1/Δx$ and $1/Δy$\n",
        "let $m = -M/2, ... , M/2 -1$ and $n = -N/2, ... , N/2 -1$;\n",
        "\n",
        "M and N are even.\n",
        "Finite physical area = Lx*Ly (side lengths)\n",
        "\n",
        "$L_x = MΔx, L_y = NΔy$\n",
        "\n",
        "An obvious sampling concern is whether all the significant values of g(x,y)\n",
        "“fit” within the physical area defined by $L_x * LY$. The support of g(x,y) refers to the span of the significant values.\n",
        "\n",
        "If $D_x$ is the support in the x direction and $D_y$ is the support in the y direction, then for the significant values of g(x,y) to be contained within the array requires $$D_x < L_x , D_y < L_y$$\n",
        "\n",
        "----------------------------------------\n",
        "\n",
        "* 2.1 For a sample interval of $Δx = 10 μm$ and side length L = 5 mm, what is the **sample number M**? What is the **Nyquist frequency**? What is the **frequency sample interval**? What is the **range of coordinates in the spatial domain**? What is the **range of the coordinates in the frequency domain**?\n",
        "-----------------------------------------\n",
        "* 2.2 Consider the following:\n",
        "$$g(x,y) = circ(sqrt(x^2 +y^2)/ w), w = 1mm$$\n",
        "$$g(x,y) = exp(- (x^2 +y^2)/ w^2), w = 1mm$$ For each function determine the following:\n",
        "  * (1) the **effective bandwidth**;\n",
        "  * (2) the **maximum sample interval $Δx$** necessary to satisfy the sampling theorem given the effective bandwidth; and\n",
        "  * (3) assuming 256 samples (linear dimension), the **maximum side length** that can be modeled.\n",
        "\n",
        "----------------------------------------\n",
        "* 2.3 What is the **support of** the following function along one dimension if the support is defined by where the function value drops to 1% of its peak?\n",
        "$$g(x,y = exp(-π^2 (x^2 + y^2)/ w^2))$$\n",
        "\n",
        "----------------------------------------\n",
        "\n",
        "* 2.4 What is the **bandwidth along one axis** for the following?\n",
        "  * $$sinc(x/w) * sinc(y/w)$$\n",
        "  * $$sinc^2(x/w) * sinc^2(y/w)$$\n",
        "\n",
        "----------------------------------------\n",
        "\n",
        "* 2.5 Consider the following two functions:\n",
        "$$g_1(x,y) = Λ(x/d) * Λ(y/2d)$$\n",
        "$$g_2(x,y) = circ(sqrt(x^2 + y^2)/ d)$$\n",
        "\n",
        "  * (a) What is the **minimum side length** required to accommodate a *convolution* of these two functions?\n",
        "\n",
        "  * (b) What is the **minimum side length required** to accommodate the *autocorrelation* of $g2(x, y)$?\n",
        "\n",
        "----------------------------------------\n",
        "\n",
        "\n"
      ],
      "metadata": {
        "id": "GFgJ8hsKIHLY"
      }
    },
    {
      "cell_type": "markdown",
      "source": [
        "### P2.1\n",
        "\n",
        "* 2.1 For a sample interval of $Δx = 10 μm$ and side length L = 5 mm, what is the **sample number M**? What is the **Nyquist frequency**? What is the **frequency sample interval**? What is the **range of coordinates in the spatial domain**? What is the **range of the coordinates in the frequency domain**?"
      ],
      "metadata": {
        "id": "C-raOklWINLe"
      }
    },
    {
      "cell_type": "code",
      "source": [
        "import numpy as np\n",
        "import matplotlib.pyplot as plt\n",
        "from numpy.fft import fft, ifft, fftfreq, fftshift, ifftshift, fft2, ifft2"
      ],
      "metadata": {
        "id": "sjEZ6A8FITPD"
      },
      "execution_count": null,
      "outputs": []
    },
    {
      "cell_type": "code",
      "execution_count": null,
      "metadata": {
        "colab": {
          "base_uri": "https://localhost:8080/"
        },
        "id": "on5PS_0MH5Tj",
        "outputId": "1670124c-39f0-4487-af5c-b2e0db80e5e9"
      },
      "outputs": [
        {
          "output_type": "stream",
          "name": "stdout",
          "text": [
            " M: 500.0\n",
            " Nyquist frequency: 50000.0\n",
            " Frequency sample interval: 200.0\n",
            " Spatial range: [-0.0025, 0.0025]\n",
            " Frequency range: [-50000.  50000.]\n"
          ]
        }
      ],
      "source": [
        "delta_x = 10e-6  # 10 μm\n",
        "L = 5e-3  # 5 mm\n",
        "\n",
        "# Calculate the sample number M\n",
        "M = L / delta_x\n",
        "\n",
        "# Calculate the Nyquist frequency\n",
        "nyquist_frequency = 1 / (2 * delta_x)\n",
        "\n",
        "# Calculate the frequency sample interval\n",
        "frequency_sample_interval = 1 / L\n",
        "\n",
        "# Calculate the range of coordinates in the spatial domain\n",
        "spatial_range = [-L / 2, L / 2]\n",
        "\n",
        "# Calculate the range of coordinates in the frequency domain\n",
        "frequency_range = [-nyquist_frequency, nyquist_frequency]\n",
        "\n",
        "print(f\" M: {np.round(M)}\\n Nyquist frequency: {np.round(nyquist_frequency)}\\n Frequency sample interval: {frequency_sample_interval}\\n Spatial range: {spatial_range}\\n Frequency range: {np.round(frequency_range)}\")\n"
      ]
    },
    {
      "cell_type": "markdown",
      "source": [
        "### P2.2\n",
        "\n",
        "* 2.2 Consider the following:\n",
        "$$g(x,y) = circ(sqrt(x^2 +y^2)/ w), w = 1mm$$\n",
        "$$g(x,y) = exp(- (x^2 +y^2)/ w^2), w = 1mm$$ For each function determine the following:\n",
        "  * (1) the **effective bandwidth**;\n",
        "  * (2) the **maximum sample interval $Δx$** necessary to satisfy the sampling theorem given the effective bandwidth; and\n",
        "  * (3) assuming 256 samples (linear dimension), the **maximum side length** that can be modeled.\n",
        "\n",
        "* $EffectiveBandwidth = 1/w =  1/1mm $\n",
        "* Maximum sample interval $Δx = 1/ (2* EffectiveBandwidth) = 1/ (2* 1 mm^-1) = 0.5 mm$\n",
        "* Maximum side length: With 256 samples, $256 * Δx = 128 mm$\n",
        "\n"
      ],
      "metadata": {
        "id": "ibrGpGgHIPtS"
      }
    },
    {
      "cell_type": "code",
      "source": [
        "w = 1 # mm\n",
        "Effective_bandwidth = 1/w # mm^-1\n",
        "Maximum_sample_interval = 1/ (2* Effective_bandwidth)\n",
        "Maximum_side_length = 256 * Maximum_sample_interval\n",
        "print(f\"Effective bandwidth: {Effective_bandwidth} mm^-1 \\nMaximum sample interval: {Maximum_sample_interval} mm \\nMaximum side length: {Maximum_side_length} mm\")"
      ],
      "metadata": {
        "colab": {
          "base_uri": "https://localhost:8080/"
        },
        "id": "mC_plXGkIR5C",
        "outputId": "1c37e3a1-0d3b-4be4-c254-8f5dd622319a"
      },
      "execution_count": null,
      "outputs": [
        {
          "output_type": "stream",
          "name": "stdout",
          "text": [
            "Effective bandwidth: 1.0 mm^-1 \n",
            "Maximum sample interval: 0.5 mm \n",
            "Maximum side length: 128.0 mm\n"
          ]
        }
      ]
    },
    {
      "cell_type": "markdown",
      "source": [
        "### P2.3\n",
        "\n",
        "* 2.3 What is the **support of** the following function along one dimension if the support is defined by where the function value drops to 1% of its peak?\n",
        "$$g(x,y = exp(-π^2 (x^2 + y^2)/ w^2))$$"
      ],
      "metadata": {
        "id": "DVVKkFNTIjRC"
      }
    },
    {
      "cell_type": "code",
      "source": [
        "from sympy import symbols, exp, pi, solve\n",
        "\n",
        "# Define the variables and the function g(x, y)\n",
        "x, y, w = symbols('x y w')\n",
        "g = exp(-pi**2 * (x**2 + y**2) / w**2)\n",
        "\n",
        "# Set y = 0 to examine the function along one dimension (x-axis)\n",
        "g_x = g.subs(y, 0)\n",
        "\n",
        "# Find the value of x where the function value drops to 1% of its peak (peak is at g(0,0) = 1)\n",
        "threshold = 0.01\n",
        "equation = g_x - threshold\n",
        "\n",
        "# Solve for x\n",
        "x_values = solve(equation, x)\n",
        "x_values\n",
        "print(f\"Support is {x_values}\")\n"
      ],
      "metadata": {
        "colab": {
          "base_uri": "https://localhost:8080/"
        },
        "id": "86tCzQA4Ik-r",
        "outputId": "e1cf62c9-b528-4daa-9f28-9ee76d6401b4"
      },
      "execution_count": null,
      "outputs": [
        {
          "output_type": "stream",
          "name": "stdout",
          "text": [
            "Support is [-0.683082201582444*w, 0.683082201582444*w]\n"
          ]
        }
      ]
    },
    {
      "cell_type": "markdown",
      "source": [
        "### P2.4\n",
        "\n",
        "* 2.4 What is the **bandwidth along one axis** for the following?\n",
        "  * $$sinc(x/w) * sinc(y/w)$$\n",
        "  * $$sinc^2(x/w) * sinc^2(y/w)$$\n"
      ],
      "metadata": {
        "id": "gLV44EoKIoJI"
      }
    },
    {
      "cell_type": "markdown",
      "source": [
        "for $sinc(x/w)$\n",
        "zeros occur at $\\pm k*w*\\pi$ where $k = 1, 2, 3, ...$, therefore, bandwidth along one axis is $2\\pi w$\n"
      ],
      "metadata": {
        "id": "mvuZ-a7-Io9b"
      }
    },
    {
      "cell_type": "markdown",
      "source": [
        "### P2.5\n",
        "* 2.5 Consider the following two functions:\n",
        "$$g_1(x,y) = Λ(x/d) * Λ(y/2d)$$\n",
        "$$g_2(x,y) = circ(sqrt(x^2 + y^2)/ d)$$\n",
        "\n",
        "  * (a) What is the **minimum side length** required to accommodate a *convolution* of these two functions?\n",
        "\n",
        "  * (b) What is the **minimum side length required** to accommodate the *autocorrelation* of $g2(x, y)$?"
      ],
      "metadata": {
        "id": "--CxcHeHIvWE"
      }
    },
    {
      "cell_type": "markdown",
      "source": [
        "-----------------------------------------------------------------------\n",
        "\n",
        "\n",
        "**Part (a): Minimum Side Length for Convolution**\n",
        "\n",
        "For the convolution of\n",
        "$$g_1(x,y) = \\Lambda\\left(\\frac{x}{d}\\right) \\times \\Lambda\\left(\\frac{y}{2d}\\right)$$\n",
        "and\n",
        "$$g_2(x,y) = \\text{circ}\\left(\\sqrt{x^2 + y^2}/d\\right):$$\n",
        "\n",
        "- $g_1$ has a support of $2d$ along the x-axis and $4d$ along the y-axis.\n",
        "- $g_2$ has a circular support with a diameter of $2d$.\n",
        "\n",
        "The minimum side length required to accommodate the convolution along each axis would be:\n",
        "\n",
        "- Along the x-axis: $2d + 2d = 4d$\n",
        "- Along the y-axis: $4d + 2d = 6d$\n",
        "\n",
        "Thus, the required side length for convolution would be $6d$ along the y-axis (as it is larger).\n",
        "\n",
        "**Part (b): Minimum Side Length for Autocorrelation of $g_2(x, y)$**\n",
        "\n",
        "For the autocorrelation of\n",
        "$$g_2(x,y) = \\text{circ}\\left(\\sqrt{x^2 + y^2}/d\\right):$$\n",
        "\n",
        "- $g_2$ has a circular support with a diameter of $2d$.\n",
        "- The autocorrelation will result in a support twice the size of the original, giving a diameter of $4d$.\n",
        "\n",
        "Therefore, the minimum side length required to accommodate the autocorrelation of $g_2(x, y)$ is $4d$.\n",
        "\n",
        "-----------------------------------------------------------------------\n"
      ],
      "metadata": {
        "id": "O1Wq2m0jIwFy"
      }
    }
  ]
}